{
 "cells": [
  {
   "cell_type": "code",
   "execution_count": 1,
   "metadata": {},
   "outputs": [],
   "source": [
    "# import libraries\n",
    "import pandas as pd\n",
    "import numpy as np\n",
    "import os\n",
    "import pathlib as pth\n",
    "import openpyxl as xl\n",
    "\n",
    "# Input values\n",
    "folder_1 = pth.Path('//whoffice/shared/EMR/BAU/Audit Spreadsheets/PBS audits/')\n",
    "filename_excel = 'PBS Processing 5 - Medications_PBS_Mapping_Alignment_prodii.xlsx'\n",
    "sheet_name_excel = 'prescriber type (from PBS text)'\n",
    "\n",
    "# This will get the name of the folder we want\n",
    "all_folder_names = os.listdir(folder_1)\n",
    "folder_names = []\n",
    "for item in all_folder_names:\n",
    "    try:\n",
    "        folder_names.append(int(item))\n",
    "    except ValueError:\n",
    "        continue\n",
    "\n",
    "folder_names.sort(reverse=True)\n",
    "folder = folder_names[0]\n",
    "filename = 'Prescriber_type_' + str(folder) + '01' + '.txt'\n",
    "file_loc_name = pth.Path.joinpath(folder_1, str(folder), filename)\n",
    "file_loc_name = pth.PureWindowsPath(file_loc_name)\n",
    "file_loc_name_excel = pth.Path.joinpath(folder_1, str(folder), filename_excel)\n",
    "\n",
    "# Read the .txt document, wrangle and make the dataframe\n",
    "column_names = ['desc', 'ID', 'role']\n",
    "df_file = pd.read_csv(file_loc_name, sep = '\\t', header=0, names = column_names)\n",
    "df_file_out = df_file.drop_duplicates(subset='ID', keep=False)\n",
    "unique_IDs = df_file_out['ID'].tolist()\n",
    "\n",
    "for index, row in df_file.iterrows():\n",
    "    id = df_file.loc[index]['ID']\n",
    "    if id not in unique_IDs:\n",
    "        df_temp = df_file[df_file['ID'] == id]\n",
    "        roles = df_temp.role.tolist()\n",
    "        roles = \" \".join(roles)\n",
    "        ser_temp = df_temp.iloc[0]\n",
    "        ser_temp['role'] = roles\n",
    "        df_file_out = df_file_out.append(ser_temp, ignore_index = True)\n",
    "        unique_IDs.append(id)\n",
    "    else:\n",
    "        continue\n",
    "\n",
    "# WRITE TO EXCEL SHEET\n",
    "book = xl.load_workbook(file_loc_name_excel)\n",
    "del book[sheet_name_excel]\n",
    "writer = pd.ExcelWriter(file_loc_name_excel, engine = 'openpyxl')\n",
    "writer.book = book\n",
    "writer.sheets = dict((ws.title, ws) for ws in book.worksheets)\n",
    "df_file_out.to_excel(writer, sheet_name_excel, index = False)\n",
    "writer.save()\n",
    "\n",
    "# Give user feedback\n",
    "print('number of rows and columns:', df_file_out.shape)\n",
    "print('all done!')"
   ]
  },
  {
   "cell_type": "code",
   "execution_count": null,
   "metadata": {},
   "outputs": [],
   "source": []
  }
 ],
 "metadata": {
  "kernelspec": {
   "display_name": "Python 3.9.13 64-bit (microsoft store)",
   "language": "python",
   "name": "python3"
  },
  "language_info": {
   "codemirror_mode": {
    "name": "ipython",
    "version": 3
   },
   "file_extension": ".py",
   "mimetype": "text/x-python",
   "name": "python",
   "nbconvert_exporter": "python",
   "pygments_lexer": "ipython3",
   "version": "3.9.13 (tags/v3.9.13:6de2ca5, May 17 2022, 16:36:42) [MSC v.1929 64 bit (AMD64)]"
  },
  "vscode": {
   "interpreter": {
    "hash": "0d8a354d9faeed0e741e88709d0ca4cfdcbab2911b6a97752e1a88b65797b277"
   }
  }
 },
 "nbformat": 4,
 "nbformat_minor": 4
}
